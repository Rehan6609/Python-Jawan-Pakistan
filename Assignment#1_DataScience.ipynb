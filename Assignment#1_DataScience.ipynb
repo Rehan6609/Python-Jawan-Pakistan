{
 "cells": [
  {
   "cell_type": "code",
   "execution_count": 40,
   "metadata": {},
   "outputs": [
    {
     "name": "stdout",
     "output_type": "stream",
     "text": [
      "Twinkle, twinkle, little Star,\n",
      "\t How I wonder what you are!\n",
      "\t\t Up above the world so high,\n",
      "\t\t Like a dimond in the sky.\n",
      "Twinkle, twinkle, little Star,\n",
      "\t How I wonder what you are\n"
     ]
    }
   ],
   "source": [
    "# Muhammad Rehan Saeed\n",
    "# Question No 01 Solution\n",
    "\n",
    "print(\"Twinkle, twinkle, little Star,\")\n",
    "print(\"\\t How I wonder what you are!\")\n",
    "print(\"\\t\\t Up above the world so high,\")\n",
    "print(\"\\t\\t Like a dimond in the sky.\")\n",
    "print(\"Twinkle, twinkle, little Star,\")\n",
    "print(\"\\t How I wonder what you are\")"
   ]
  },
  {
   "cell_type": "code",
   "execution_count": 50,
   "metadata": {},
   "outputs": [
    {
     "name": "stdout",
     "output_type": "stream",
     "text": [
      "Python Verion 3.5.8\n"
     ]
    }
   ],
   "source": [
    "# Question No 02 Solution\n",
    "Python_Verion = \" 3.5.8\";\n",
    "print(\"Python Verion\"+ Python_Verion );"
   ]
  },
  {
   "cell_type": "code",
   "execution_count": 1,
   "metadata": {},
   "outputs": [
    {
     "name": "stdout",
     "output_type": "stream",
     "text": [
      "2022-01-01 22:56:36.659229\n"
     ]
    }
   ],
   "source": [
    "# Question No 03 Solution\n",
    "\n",
    "from datetime import datetime;\n",
    "Now = datetime.now();\n",
    "print(Now);"
   ]
  },
  {
   "cell_type": "code",
   "execution_count": 10,
   "metadata": {
    "scrolled": false
   },
   "outputs": [
    {
     "name": "stdout",
     "output_type": "stream",
     "text": [
      "Enter the radius of a circle:- 3\n",
      "Area of a circle =  28.26\n"
     ]
    }
   ],
   "source": [
    "# Question No 04 Solution\n",
    "import math\n",
    "PI = 3.14\n",
    "r=int(input(\"Enter the radius of a circle:- \"))\n",
    "area=PI*r**2\n",
    "print(\"Area of a circle = \",area)\n"
   ]
  },
  {
   "cell_type": "code",
   "execution_count": 14,
   "metadata": {},
   "outputs": [
    {
     "name": "stdout",
     "output_type": "stream",
     "text": [
      "Enter First Name Muhammad Rehan\n",
      "Enter Last Name Saeed\n",
      "Saeed Muhammad Rehan\n"
     ]
    }
   ],
   "source": [
    "# Question No 05 Solution\n",
    "\n",
    "f_n=input(\"Enter First Name \")\n",
    "l_n=input(\"Enter Last Name \")\n",
    "print(l_n+\" \"+f_n)\n",
    "#Enter First Name Muhammad Rehan\n",
    "#Enter Last Name Saeed"
   ]
  },
  {
   "cell_type": "code",
   "execution_count": 13,
   "metadata": {},
   "outputs": [
    {
     "name": "stdout",
     "output_type": "stream",
     "text": [
      "Enter Number 1 4\n",
      "Enter Number 2 6\n",
      "Sum of Number 1 and Number 2 is:-  10\n"
     ]
    }
   ],
   "source": [
    "# Question No 06 Solution\n",
    "a=int(input(\"Enter Number 1 \"))\n",
    "b=int(input(\"Enter Number 2 \"))\n",
    "print(\"Sum of Number 1 and Number 2 is:- \",int(a+b))"
   ]
  },
  {
   "cell_type": "code",
   "execution_count": null,
   "metadata": {},
   "outputs": [],
   "source": []
  }
 ],
 "metadata": {
  "kernelspec": {
   "display_name": "Python 3",
   "language": "python",
   "name": "python3"
  },
  "language_info": {
   "codemirror_mode": {
    "name": "ipython",
    "version": 3
   },
   "file_extension": ".py",
   "mimetype": "text/x-python",
   "name": "python",
   "nbconvert_exporter": "python",
   "pygments_lexer": "ipython3",
   "version": "3.8.5"
  }
 },
 "nbformat": 4,
 "nbformat_minor": 4
}
